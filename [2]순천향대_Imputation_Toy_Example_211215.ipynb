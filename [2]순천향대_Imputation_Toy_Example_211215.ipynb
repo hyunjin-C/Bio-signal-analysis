{
  "nbformat": 4,
  "nbformat_minor": 0,
  "metadata": {
    "colab": {
      "name": "[2]순천향대_Imputation_Toy_Example_211215.ipynb",
      "provenance": [],
      "collapsed_sections": [],
      "toc_visible": true,
      "include_colab_link": true
    },
    "kernelspec": {
      "name": "python3",
      "display_name": "Python 3"
    },
    "language_info": {
      "name": "python"
    }
  },
  "cells": [
    {
      "cell_type": "markdown",
      "metadata": {
        "id": "view-in-github",
        "colab_type": "text"
      },
      "source": [
        "<a href=\"https://colab.research.google.com/github/hyunjin-C/hyunjin-C/blob/main/%5B2%5D%EC%88%9C%EC%B2%9C%ED%96%A5%EB%8C%80_Imputation_Toy_Example_211215.ipynb\" target=\"_parent\"><img src=\"https://colab.research.google.com/assets/colab-badge.svg\" alt=\"Open In Colab\"/></a>"
      ]
    },
    {
      "cell_type": "markdown",
      "metadata": {
        "id": "UsFaczNk37IT"
      },
      "source": [
        "# Multivariate Imputation by Chained Equations (MICE) 및 kNN Imputation 실습"
      ]
    },
    {
      "cell_type": "markdown",
      "metadata": {
        "id": "8cQBnVvV4Kh_"
      },
      "source": [
        "## 순서\n",
        "\n",
        "\n",
        "*   Univariate feature imputation\n",
        "*   Multivariate feature imputation\n",
        "*   Nearest neighbors imputation\n",
        "\n",
        "\n",
        "\n"
      ]
    },
    {
      "cell_type": "markdown",
      "metadata": {
        "id": "6F7LuAwr47-p"
      },
      "source": [
        "## Univariate feature imputation"
      ]
    },
    {
      "cell_type": "markdown",
      "metadata": {
        "id": "dPVg_FUrDJNo"
      },
      "source": [
        "### sklearn.impute.SimpleImputer\n",
        "\n",
        "\n",
        "*   missing_values: int, float, str, np.nan 등 missing value로 지정할 수 있는 데이터 타입\n",
        "*   strategy: imputation 전략으로 각각 'mean', 'median', 'most_fequent', 'constant'가 설정되어 있음\n",
        "*   fill_value: strategy가 'constant'로 되어있는 경우 채워질 수 있는 값\n",
        "*   copy: copy가 true로 되어있는 경우 imputation이 완료된 input X가 새롭게 생성이 되어지며, false로 되어있는 경우 input X 자체에 imputation이 적용되어짐\n",
        "\n",
        "\n",
        "\n"
      ]
    },
    {
      "cell_type": "code",
      "metadata": {
        "id": "qSuARTq646B_"
      },
      "source": [
        "import numpy as np\n",
        "from sklearn.experimental import enable_iterative_imputer\n",
        "from sklearn.impute import SimpleImputer, KNNImputer, IterativeImputer\n",
        "\n",
        "toy_train_data = [[1, 2.3], [np.nan, 3], [7, 6], [8.4, 3], [2, np.nan]]\n",
        "toy_test_data = [[np.nan, 4], [np.nan, np.nan], [5.5, 8], [np.nan, 9], [2.7, np.nan]]\n",
        "print('Toy Test Data: ', toy_test_data)\n",
        "simple_imp = SimpleImputer(missing_values=np.nan, strategy='mean')\n",
        "simple_imp.fit(toy_train_data)\n",
        "\n",
        "print('Toy Imputed Test Data: ', simple_imp.transform(toy_test_data))"
      ],
      "execution_count": null,
      "outputs": []
    },
    {
      "cell_type": "markdown",
      "metadata": {
        "id": "JpAhPiPGFF1a"
      },
      "source": [
        "### 실습: float type에 대한 'median' imputation "
      ]
    },
    {
      "cell_type": "code",
      "metadata": {
        "id": "lJWvGbrSR4Lc"
      },
      "source": [
        "toy_train_data = [[1, 2.3], [np.nan, 3], [7.5, 6], [8.4, 3], [2.1, np.nan]]\n",
        "toy_test_data = [[np.nan, 4.2], [np.nan, np.nan], [5.5, 8], [np.nan, 9.1], [2.7, np.nan]]\n",
        "simple_imp_mean = SimpleImputer(missing_values=np.nan, strategy='mean')\n",
        "simple_imp_mean.fit(toy_train_data)\n",
        "\n",
        "print('### Imputation with Mean')\n",
        "print(simple_imp_mean.transform(toy_test_data))\n",
        "print('\\n\\n')\n",
        "\n",
        "## strategy: 'mean', 'median', 'most_frequent', 'constant'\n",
        "simple_imp_median = SimpleImputer(missing_values=np.nan, strategy=\"median\")\n",
        "simple_imp_median.fit(toy_train_data)\n",
        "\n",
        "print('### Imputation with Median')\n",
        "print(simple_imp_median.transform(toy_test_data))"
      ],
      "execution_count": null,
      "outputs": []
    },
    {
      "cell_type": "markdown",
      "metadata": {
        "id": "60-D3INPFSuZ"
      },
      "source": [
        "### sklearn.impute.IterativeImputer\n",
        "\n",
        "\n",
        "\n",
        "* estimator: 매 round-robin imputation step 마다 사용될 모델로 default는 Bayesian Ridge 모델로 되어 있음. 추가적으로 사용해 볼 수 있는 모델은 Decision Tree Regressor, Extra Trees Regressor 등이 있음.\n",
        "* missing_values: 상기 작성된 내용과 동일\n",
        "* max_iter: Imputation round의 maximum step 수\n",
        "* tol: stopping condition에 해당하는 수치\n",
        "* n_nearest_features: missing value를 estimate 하기 위해 사용할 '다른' feature의 개수\n",
        "* initial_strategy: SimpleImputer의 'strategy' hyperparameter와 동일\n",
        "* imputation_order: Feature 별로 imputation이 되는 순서. 가능한 값은 'ascending', 'descending', 'roman', 'arabic', 'random'이 있음.\n",
        "* skip_complete: True로 세팅되어 있는 경우, 'fit' 단계에서 missing value가 전혀 없었던 feature를 'transform'할 때 initial imputation 만을 실시. (missing value가 많지 않은 데이터의 경우 해당 값을 True로 세팅하여 'fit'과 'transform'에 시간 단축을 기대해 볼 수 있음) \n",
        "* min_value: imputation 되는 값의 최소 기대값 (imputation 되는 값은 이 수치 아래로 떨어질 수 없음)\n",
        "* max_value: imputation 되는 값의 최대 기대값 (imputation 되는 값은 이 수치 위로 올라갈 수 없음)"
      ]
    },
    {
      "cell_type": "code",
      "metadata": {
        "id": "Vsfyl3s_7Rut"
      },
      "source": [
        "iter_imp = IterativeImputer(max_iter=10, random_state=0)\n",
        "iter_imp.fit(toy_train_data)\n",
        "\n",
        "print(iter_imp.transform(toy_test_data))"
      ],
      "execution_count": null,
      "outputs": []
    },
    {
      "cell_type": "markdown",
      "metadata": {
        "id": "QJn8B2SlP8zm"
      },
      "source": [
        "### 실습: max value 7, min value 3을 세팅"
      ]
    },
    {
      "cell_type": "code",
      "metadata": {
        "id": "Ikxat3x5S-mK"
      },
      "source": [
        "##Max Value: 7\n",
        "##Min Value: 3\n",
        "iter_imp = IterativeImputer(max_iter=10, random_state=0, \"###write a code###\")\n",
        "iter_imp.fit(toy_train_data)\n",
        "\n",
        "print(iter_imp.transform(toy_test_data))"
      ],
      "execution_count": null,
      "outputs": []
    },
    {
      "cell_type": "markdown",
      "metadata": {
        "id": "vnvtxfiwQRfp"
      },
      "source": [
        "### sklearn.impute.KNNImputer\n",
        "\n",
        "* missing_values: 상기 내용과 동일\n",
        "* n_neighbors: kNN 모델의 neighbor k의 수\n",
        "* weights: neighbor의 영향력 계산 방식. 'uniform'의 경우 모든 neighbor의 영향력은 동일하며 'distance'로 세팅할 경우 가까이 있는 neighbor의 경우 더 큰 영향을 주게 됨.\n",
        "* metric: distance를 계산하는 metric 방법\n"
      ]
    },
    {
      "cell_type": "code",
      "metadata": {
        "id": "uTDDTf-6Tc9j"
      },
      "source": [
        "knn_imp = KNNImputer(n_neighbors=2, weights='uniform')\n",
        "knn_imp.fit(toy_train_data)\n",
        "\n",
        "print(knn_imp.transform(toy_test_data))"
      ],
      "execution_count": null,
      "outputs": []
    },
    {
      "cell_type": "markdown",
      "metadata": {
        "id": "msq4lYxARB_J"
      },
      "source": [
        "### 실습: n_neigbhors를 3개로 설정, weights은 distance 방법을 사용하여 KNNImputer fiting 실시 후 test toy 데이터에 대한 imputation 실시"
      ]
    },
    {
      "cell_type": "code",
      "metadata": {
        "id": "dcsFpnxOTRMw"
      },
      "source": [
        "##n_neigbhors: 3\n",
        "##weights: distance\n",
        "knn_imp = KNNImputer(\"###Write a code###\")\n",
        "knn_imp.fit(toy_train_data)\n",
        "\n",
        "print(knn_imp.transform(toy_test_data))"
      ],
      "execution_count": null,
      "outputs": []
    }
  ]
}